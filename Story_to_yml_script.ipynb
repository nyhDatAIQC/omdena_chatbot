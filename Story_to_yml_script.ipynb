{
  "cells": [
    {
      "cell_type": "markdown",
      "source": [
        "#0. Set path"
      ],
      "metadata": {
        "id": "Jhzu3fz8MhKS"
      }
    },
    {
      "cell_type": "code",
      "source": [
        "from google.colab import drive\n",
        "drive.mount('/content/drive')"
      ],
      "metadata": {
        "colab": {
          "base_uri": "https://localhost:8080/"
        },
        "id": "H2BsN0j8MeLb",
        "outputId": "984ae69e-2319-4c0d-b700-a4c3df195d9e"
      },
      "execution_count": 1,
      "outputs": [
        {
          "output_type": "stream",
          "name": "stdout",
          "text": [
            "Mounted at /content/drive\n"
          ]
        }
      ]
    },
    {
      "cell_type": "code",
      "source": [
        "proj_path = \"/content/drive/MyDrive/omdena/chatbot_omdena/chatbot-a-v1/\""
      ],
      "metadata": {
        "id": "nx_GahQJMmrd"
      },
      "execution_count": 2,
      "outputs": []
    },
    {
      "cell_type": "markdown",
      "metadata": {
        "id": "-Fb81eFSJIUx"
      },
      "source": [
        "## 1. Load dataset"
      ]
    },
    {
      "cell_type": "code",
      "execution_count": 3,
      "metadata": {
        "colab": {
          "base_uri": "https://localhost:8080/",
          "height": 774
        },
        "id": "9FIdC_OvkB6h",
        "outputId": "3f84999c-b49c-4ad0-8da6-ed915c8b2204"
      },
      "outputs": [
        {
          "output_type": "execute_result",
          "data": {
            "text/plain": [
              "                                             story_1  Intent/Action name  \\\n",
              "0                       What is Omdena's main focus?        about_omdena   \n",
              "1  To provide a platform for a global community o...  utter_about_omdena   \n",
              "2                                                NaN                 NaN   \n",
              "3                                                NaN                 NaN   \n",
              "4                                                NaN                 NaN   \n",
              "\n",
              "                                             story_2     Intent/Action name.1  \\\n",
              "0                              How do I join Omdena?              join_omdena   \n",
              "1  You can join Omdena through the Local Chapters...        utter_join_omdena   \n",
              "2     How can I develop my AI portfolio with Omdena?        develop_portfolio   \n",
              "3  Collaborate to solve real-world challenges thr...  utter_develop_portfolio   \n",
              "4                                                NaN                      NaN   \n",
              "\n",
              "                                             story_3  \\\n",
              "0  How do Omdena Local Chapters work, and how can...   \n",
              "1  Local Chapters enable you to work on projects ...   \n",
              "2          How do I join an AI Innovation challenge?   \n",
              "3  Explore real world challenges and develop real...   \n",
              "4  What is the Omdena School, and what courses do...   \n",
              "\n",
              "                   Intent/Action Name  \\\n",
              "0                  join_local_chapter   \n",
              "1            utter_join_local_chapter   \n",
              "2        join_ai_innovation_challenge   \n",
              "3  utter_join_ai_innovation_challenge   \n",
              "4                  join_omdena_school   \n",
              "\n",
              "                                             story_4  Intent/Action Name.1  \\\n",
              "0                      Are the courses paid or free?        access_courses   \n",
              "1  As a collaborator, you could be considered for...  utter_access courses   \n",
              "2                                                NaN                   NaN   \n",
              "3                                                NaN                   NaN   \n",
              "4                                                NaN                   NaN   \n",
              "\n",
              "                                             story_5 Intent/Action Name.2  \\\n",
              "0   Hi, I'd like to know more about Omdena projects.         about_omdena   \n",
              "1  Sure! Omdena hosts various AI projects that ta...   utter_about_omdena   \n",
              "2                                                NaN                  NaN   \n",
              "3                                                NaN                  NaN   \n",
              "4                                                NaN                  NaN   \n",
              "\n",
              "                                             story_6     Intent/Action Name.3  \\\n",
              "0  I'm interested in becoming a collaborator. How...        join_collaborator   \n",
              "1  Visit our website's \"Projects\" section to see ...  utter_join_collaborator   \n",
              "2  I found a project that interests me. What shou...            about_project   \n",
              "3  Fantastic! Once you've selected a project, cli...      utter_about_project   \n",
              "4  I've submitted my application. What's the next...       application_period   \n",
              "\n",
              "                                             story_7  \\\n",
              "0  Is there any support or guidance provided duri...   \n",
              "1  Absolutely! Throughout the project, you'll rec...   \n",
              "2       What happens after the project is completed?   \n",
              "3  At the end of the project, your team will pres...   \n",
              "4  This sounds like a fantastic opportunity! Befo...   \n",
              "\n",
              "       Intent/Action Name.4  \\\n",
              "0                   support   \n",
              "1             utter_support   \n",
              "2        project_completion   \n",
              "3  utter_project_completion   \n",
              "4                       NaN   \n",
              "\n",
              "                                           story_7.1 Intent/Action Name.5  \\\n",
              "0  I represent a company and would like to partne...         join_company   \n",
              "1  Fantastic! Omdena welcomes collaborations with...   utter_join_company   \n",
              "2  What are the key elements included in the part...          partnership   \n",
              "3  If your project is selected for collaboration,...    utter_partnership   \n",
              "4            Is there anything else we need to know?      additional_info   \n",
              "\n",
              "                                           story_7.2 Intent/Action Name.6  \n",
              "0  Are there any AI learning resources available ...            resources  \n",
              "1  Absolutely! Omdena values learning and knowled...      utter_resources  \n",
              "2      Do you host events or webinars related to AI?               events  \n",
              "3  Yes, we do! Omdena regularly organizes webinar...         utter_events  \n",
              "4   How can I get in touch with someone from Omdena?       omdena_support  "
            ],
            "text/html": [
              "\n",
              "\n",
              "  <div id=\"df-9d84b124-3d65-4bdc-8ec3-d90b7a229cf7\">\n",
              "    <div class=\"colab-df-container\">\n",
              "      <div>\n",
              "<style scoped>\n",
              "    .dataframe tbody tr th:only-of-type {\n",
              "        vertical-align: middle;\n",
              "    }\n",
              "\n",
              "    .dataframe tbody tr th {\n",
              "        vertical-align: top;\n",
              "    }\n",
              "\n",
              "    .dataframe thead th {\n",
              "        text-align: right;\n",
              "    }\n",
              "</style>\n",
              "<table border=\"1\" class=\"dataframe\">\n",
              "  <thead>\n",
              "    <tr style=\"text-align: right;\">\n",
              "      <th></th>\n",
              "      <th>story_1</th>\n",
              "      <th>Intent/Action name</th>\n",
              "      <th>story_2</th>\n",
              "      <th>Intent/Action name.1</th>\n",
              "      <th>story_3</th>\n",
              "      <th>Intent/Action Name</th>\n",
              "      <th>story_4</th>\n",
              "      <th>Intent/Action Name.1</th>\n",
              "      <th>story_5</th>\n",
              "      <th>Intent/Action Name.2</th>\n",
              "      <th>story_6</th>\n",
              "      <th>Intent/Action Name.3</th>\n",
              "      <th>story_7</th>\n",
              "      <th>Intent/Action Name.4</th>\n",
              "      <th>story_7.1</th>\n",
              "      <th>Intent/Action Name.5</th>\n",
              "      <th>story_7.2</th>\n",
              "      <th>Intent/Action Name.6</th>\n",
              "    </tr>\n",
              "  </thead>\n",
              "  <tbody>\n",
              "    <tr>\n",
              "      <th>0</th>\n",
              "      <td>What is Omdena's main focus?</td>\n",
              "      <td>about_omdena</td>\n",
              "      <td>How do I join Omdena?</td>\n",
              "      <td>join_omdena</td>\n",
              "      <td>How do Omdena Local Chapters work, and how can...</td>\n",
              "      <td>join_local_chapter</td>\n",
              "      <td>Are the courses paid or free?</td>\n",
              "      <td>access_courses</td>\n",
              "      <td>Hi, I'd like to know more about Omdena projects.</td>\n",
              "      <td>about_omdena</td>\n",
              "      <td>I'm interested in becoming a collaborator. How...</td>\n",
              "      <td>join_collaborator</td>\n",
              "      <td>Is there any support or guidance provided duri...</td>\n",
              "      <td>support</td>\n",
              "      <td>I represent a company and would like to partne...</td>\n",
              "      <td>join_company</td>\n",
              "      <td>Are there any AI learning resources available ...</td>\n",
              "      <td>resources</td>\n",
              "    </tr>\n",
              "    <tr>\n",
              "      <th>1</th>\n",
              "      <td>To provide a platform for a global community o...</td>\n",
              "      <td>utter_about_omdena</td>\n",
              "      <td>You can join Omdena through the Local Chapters...</td>\n",
              "      <td>utter_join_omdena</td>\n",
              "      <td>Local Chapters enable you to work on projects ...</td>\n",
              "      <td>utter_join_local_chapter</td>\n",
              "      <td>As a collaborator, you could be considered for...</td>\n",
              "      <td>utter_access courses</td>\n",
              "      <td>Sure! Omdena hosts various AI projects that ta...</td>\n",
              "      <td>utter_about_omdena</td>\n",
              "      <td>Visit our website's \"Projects\" section to see ...</td>\n",
              "      <td>utter_join_collaborator</td>\n",
              "      <td>Absolutely! Throughout the project, you'll rec...</td>\n",
              "      <td>utter_support</td>\n",
              "      <td>Fantastic! Omdena welcomes collaborations with...</td>\n",
              "      <td>utter_join_company</td>\n",
              "      <td>Absolutely! Omdena values learning and knowled...</td>\n",
              "      <td>utter_resources</td>\n",
              "    </tr>\n",
              "    <tr>\n",
              "      <th>2</th>\n",
              "      <td>NaN</td>\n",
              "      <td>NaN</td>\n",
              "      <td>How can I develop my AI portfolio with Omdena?</td>\n",
              "      <td>develop_portfolio</td>\n",
              "      <td>How do I join an AI Innovation challenge?</td>\n",
              "      <td>join_ai_innovation_challenge</td>\n",
              "      <td>NaN</td>\n",
              "      <td>NaN</td>\n",
              "      <td>NaN</td>\n",
              "      <td>NaN</td>\n",
              "      <td>I found a project that interests me. What shou...</td>\n",
              "      <td>about_project</td>\n",
              "      <td>What happens after the project is completed?</td>\n",
              "      <td>project_completion</td>\n",
              "      <td>What are the key elements included in the part...</td>\n",
              "      <td>partnership</td>\n",
              "      <td>Do you host events or webinars related to AI?</td>\n",
              "      <td>events</td>\n",
              "    </tr>\n",
              "    <tr>\n",
              "      <th>3</th>\n",
              "      <td>NaN</td>\n",
              "      <td>NaN</td>\n",
              "      <td>Collaborate to solve real-world challenges thr...</td>\n",
              "      <td>utter_develop_portfolio</td>\n",
              "      <td>Explore real world challenges and develop real...</td>\n",
              "      <td>utter_join_ai_innovation_challenge</td>\n",
              "      <td>NaN</td>\n",
              "      <td>NaN</td>\n",
              "      <td>NaN</td>\n",
              "      <td>NaN</td>\n",
              "      <td>Fantastic! Once you've selected a project, cli...</td>\n",
              "      <td>utter_about_project</td>\n",
              "      <td>At the end of the project, your team will pres...</td>\n",
              "      <td>utter_project_completion</td>\n",
              "      <td>If your project is selected for collaboration,...</td>\n",
              "      <td>utter_partnership</td>\n",
              "      <td>Yes, we do! Omdena regularly organizes webinar...</td>\n",
              "      <td>utter_events</td>\n",
              "    </tr>\n",
              "    <tr>\n",
              "      <th>4</th>\n",
              "      <td>NaN</td>\n",
              "      <td>NaN</td>\n",
              "      <td>NaN</td>\n",
              "      <td>NaN</td>\n",
              "      <td>What is the Omdena School, and what courses do...</td>\n",
              "      <td>join_omdena_school</td>\n",
              "      <td>NaN</td>\n",
              "      <td>NaN</td>\n",
              "      <td>NaN</td>\n",
              "      <td>NaN</td>\n",
              "      <td>I've submitted my application. What's the next...</td>\n",
              "      <td>application_period</td>\n",
              "      <td>This sounds like a fantastic opportunity! Befo...</td>\n",
              "      <td>NaN</td>\n",
              "      <td>Is there anything else we need to know?</td>\n",
              "      <td>additional_info</td>\n",
              "      <td>How can I get in touch with someone from Omdena?</td>\n",
              "      <td>omdena_support</td>\n",
              "    </tr>\n",
              "  </tbody>\n",
              "</table>\n",
              "</div>\n",
              "      <button class=\"colab-df-convert\" onclick=\"convertToInteractive('df-9d84b124-3d65-4bdc-8ec3-d90b7a229cf7')\"\n",
              "              title=\"Convert this dataframe to an interactive table.\"\n",
              "              style=\"display:none;\">\n",
              "\n",
              "  <svg xmlns=\"http://www.w3.org/2000/svg\" height=\"24px\"viewBox=\"0 0 24 24\"\n",
              "       width=\"24px\">\n",
              "    <path d=\"M0 0h24v24H0V0z\" fill=\"none\"/>\n",
              "    <path d=\"M18.56 5.44l.94 2.06.94-2.06 2.06-.94-2.06-.94-.94-2.06-.94 2.06-2.06.94zm-11 1L8.5 8.5l.94-2.06 2.06-.94-2.06-.94L8.5 2.5l-.94 2.06-2.06.94zm10 10l.94 2.06.94-2.06 2.06-.94-2.06-.94-.94-2.06-.94 2.06-2.06.94z\"/><path d=\"M17.41 7.96l-1.37-1.37c-.4-.4-.92-.59-1.43-.59-.52 0-1.04.2-1.43.59L10.3 9.45l-7.72 7.72c-.78.78-.78 2.05 0 2.83L4 21.41c.39.39.9.59 1.41.59.51 0 1.02-.2 1.41-.59l7.78-7.78 2.81-2.81c.8-.78.8-2.07 0-2.86zM5.41 20L4 18.59l7.72-7.72 1.47 1.35L5.41 20z\"/>\n",
              "  </svg>\n",
              "      </button>\n",
              "\n",
              "\n",
              "\n",
              "    <div id=\"df-6d279ac3-3b40-4816-81ee-142529aa923f\">\n",
              "      <button class=\"colab-df-quickchart\" onclick=\"quickchart('df-6d279ac3-3b40-4816-81ee-142529aa923f')\"\n",
              "              title=\"Suggest charts.\"\n",
              "              style=\"display:none;\">\n",
              "\n",
              "<svg xmlns=\"http://www.w3.org/2000/svg\" height=\"24px\"viewBox=\"0 0 24 24\"\n",
              "     width=\"24px\">\n",
              "    <g>\n",
              "        <path d=\"M19 3H5c-1.1 0-2 .9-2 2v14c0 1.1.9 2 2 2h14c1.1 0 2-.9 2-2V5c0-1.1-.9-2-2-2zM9 17H7v-7h2v7zm4 0h-2V7h2v10zm4 0h-2v-4h2v4z\"/>\n",
              "    </g>\n",
              "</svg>\n",
              "      </button>\n",
              "    </div>\n",
              "\n",
              "<style>\n",
              "  .colab-df-quickchart {\n",
              "    background-color: #E8F0FE;\n",
              "    border: none;\n",
              "    border-radius: 50%;\n",
              "    cursor: pointer;\n",
              "    display: none;\n",
              "    fill: #1967D2;\n",
              "    height: 32px;\n",
              "    padding: 0 0 0 0;\n",
              "    width: 32px;\n",
              "  }\n",
              "\n",
              "  .colab-df-quickchart:hover {\n",
              "    background-color: #E2EBFA;\n",
              "    box-shadow: 0px 1px 2px rgba(60, 64, 67, 0.3), 0px 1px 3px 1px rgba(60, 64, 67, 0.15);\n",
              "    fill: #174EA6;\n",
              "  }\n",
              "\n",
              "  [theme=dark] .colab-df-quickchart {\n",
              "    background-color: #3B4455;\n",
              "    fill: #D2E3FC;\n",
              "  }\n",
              "\n",
              "  [theme=dark] .colab-df-quickchart:hover {\n",
              "    background-color: #434B5C;\n",
              "    box-shadow: 0px 1px 3px 1px rgba(0, 0, 0, 0.15);\n",
              "    filter: drop-shadow(0px 1px 2px rgba(0, 0, 0, 0.3));\n",
              "    fill: #FFFFFF;\n",
              "  }\n",
              "</style>\n",
              "\n",
              "    <script>\n",
              "      async function quickchart(key) {\n",
              "        const containerElement = document.querySelector('#' + key);\n",
              "        const charts = await google.colab.kernel.invokeFunction(\n",
              "            'suggestCharts', [key], {});\n",
              "      }\n",
              "    </script>\n",
              "\n",
              "      <script>\n",
              "\n",
              "function displayQuickchartButton(domScope) {\n",
              "  let quickchartButtonEl =\n",
              "    domScope.querySelector('#df-6d279ac3-3b40-4816-81ee-142529aa923f button.colab-df-quickchart');\n",
              "  quickchartButtonEl.style.display =\n",
              "    google.colab.kernel.accessAllowed ? 'block' : 'none';\n",
              "}\n",
              "\n",
              "        displayQuickchartButton(document);\n",
              "      </script>\n",
              "      <style>\n",
              "    .colab-df-container {\n",
              "      display:flex;\n",
              "      flex-wrap:wrap;\n",
              "      gap: 12px;\n",
              "    }\n",
              "\n",
              "    .colab-df-convert {\n",
              "      background-color: #E8F0FE;\n",
              "      border: none;\n",
              "      border-radius: 50%;\n",
              "      cursor: pointer;\n",
              "      display: none;\n",
              "      fill: #1967D2;\n",
              "      height: 32px;\n",
              "      padding: 0 0 0 0;\n",
              "      width: 32px;\n",
              "    }\n",
              "\n",
              "    .colab-df-convert:hover {\n",
              "      background-color: #E2EBFA;\n",
              "      box-shadow: 0px 1px 2px rgba(60, 64, 67, 0.3), 0px 1px 3px 1px rgba(60, 64, 67, 0.15);\n",
              "      fill: #174EA6;\n",
              "    }\n",
              "\n",
              "    [theme=dark] .colab-df-convert {\n",
              "      background-color: #3B4455;\n",
              "      fill: #D2E3FC;\n",
              "    }\n",
              "\n",
              "    [theme=dark] .colab-df-convert:hover {\n",
              "      background-color: #434B5C;\n",
              "      box-shadow: 0px 1px 3px 1px rgba(0, 0, 0, 0.15);\n",
              "      filter: drop-shadow(0px 1px 2px rgba(0, 0, 0, 0.3));\n",
              "      fill: #FFFFFF;\n",
              "    }\n",
              "  </style>\n",
              "\n",
              "      <script>\n",
              "        const buttonEl =\n",
              "          document.querySelector('#df-9d84b124-3d65-4bdc-8ec3-d90b7a229cf7 button.colab-df-convert');\n",
              "        buttonEl.style.display =\n",
              "          google.colab.kernel.accessAllowed ? 'block' : 'none';\n",
              "\n",
              "        async function convertToInteractive(key) {\n",
              "          const element = document.querySelector('#df-9d84b124-3d65-4bdc-8ec3-d90b7a229cf7');\n",
              "          const dataTable =\n",
              "            await google.colab.kernel.invokeFunction('convertToInteractive',\n",
              "                                                     [key], {});\n",
              "          if (!dataTable) return;\n",
              "\n",
              "          const docLinkHtml = 'Like what you see? Visit the ' +\n",
              "            '<a target=\"_blank\" href=https://colab.research.google.com/notebooks/data_table.ipynb>data table notebook</a>'\n",
              "            + ' to learn more about interactive tables.';\n",
              "          element.innerHTML = '';\n",
              "          dataTable['output_type'] = 'display_data';\n",
              "          await google.colab.output.renderOutput(dataTable, element);\n",
              "          const docLink = document.createElement('div');\n",
              "          docLink.innerHTML = docLinkHtml;\n",
              "          element.appendChild(docLink);\n",
              "        }\n",
              "      </script>\n",
              "    </div>\n",
              "  </div>\n"
            ]
          },
          "metadata": {},
          "execution_count": 3
        }
      ],
      "source": [
        "import pandas as pd\n",
        "\n",
        "# Load the CSV data\n",
        "df = pd.read_csv('https://raw.githubusercontent.com/nyhDatAIQC/omdena_chatbot/main/data/1_joining_omdena.csv')\n",
        "\n",
        "# Show the first few rows of the dataframe\n",
        "df.head()"
      ]
    },
    {
      "cell_type": "code",
      "execution_count": 4,
      "metadata": {
        "colab": {
          "base_uri": "https://localhost:8080/",
          "height": 53
        },
        "id": "VNyVMY5L0MpW",
        "outputId": "cbd18434-e5b2-4d33-8e52-87b41fdffc6b"
      },
      "outputs": [
        {
          "output_type": "execute_result",
          "data": {
            "text/plain": [
              "'Omdena School empowers learners with quality education in Machine Learning, Artificial Intelligence, Data Science and Data Engineering courses. Sign up as a student or instructor https://omdena.com/omdena-school/'"
            ],
            "application/vnd.google.colaboratory.intrinsic+json": {
              "type": "string"
            }
          },
          "metadata": {},
          "execution_count": 4
        }
      ],
      "source": [
        "\n",
        "df['story_3'][5]"
      ]
    },
    {
      "cell_type": "markdown",
      "metadata": {
        "id": "7lk_95n0mjt_"
      },
      "source": [
        "The provided CSV file contains 7 different stories, each with their own intents/actions. In order to generate the domain.yml file, we will:\n",
        "\n",
        "- Identify all unique intents (intents start with no \"utter_\" prefix) and responses (responses start with the \"utter_\" prefix) across all the stories.\n",
        "- Group the responses by their names and concatenate the associated stories to form the text for each response.\n",
        "- Write the intents and responses to the domain.yml file in the appropriate format.\n",
        "\n",
        "Let's start by extracting all the unique intents and responses."
      ]
    },
    {
      "cell_type": "markdown",
      "metadata": {
        "id": "sfL32xkqLbbD"
      },
      "source": [
        "## 1. Create Domain.yml"
      ]
    },
    {
      "cell_type": "code",
      "execution_count": 5,
      "metadata": {
        "colab": {
          "base_uri": "https://localhost:8080/"
        },
        "id": "BW2B1xbwmsYE",
        "outputId": "178adae2-af1c-477a-b278-989e8f0a1e26"
      },
      "outputs": [
        {
          "output_type": "execute_result",
          "data": {
            "text/plain": [
              "(['additional_info',\n",
              "  'join_omdena',\n",
              "  'about_omdena',\n",
              "  'commitment',\n",
              "  'about_project',\n",
              "  'join_ai_innovation_challenge',\n",
              "  'join_company',\n",
              "  'join_omdena_school',\n",
              "  'join_local_chapter',\n",
              "  'access_courses',\n",
              "  'application_period',\n",
              "  'support',\n",
              "  'join_collaborator',\n",
              "  'project_completion',\n",
              "  'resources',\n",
              "  'technical_help',\n",
              "  'develop_portfolio',\n",
              "  'events',\n",
              "  'partnership',\n",
              "  'beginner_join',\n",
              "  'benefits_of_joining_community',\n",
              "  'omdena_support'],\n",
              " ['utter_join_omdena_school',\n",
              "  'utter_application_period',\n",
              "  'utter_about_project',\n",
              "  'utter_additional_info',\n",
              "  'utter_benefits_of_joining_community',\n",
              "  'utter_omdena_support',\n",
              "  'utter_join_omdena',\n",
              "  'utter_about_omdena',\n",
              "  'utter_join_local_chapter',\n",
              "  'utter_support',\n",
              "  'utter_join_collaborator',\n",
              "  'utter_resources',\n",
              "  'utter_develop_portfolio',\n",
              "  'utter_events',\n",
              "  'utter_access courses',\n",
              "  'utter_project_completion',\n",
              "  'utter_partnership',\n",
              "  'utter_join_company',\n",
              "  'utter_technical_help',\n",
              "  'utter_commitment',\n",
              "  'utter_join_ai_innovation_challenge',\n",
              "  'utter_beginner_join'])"
            ]
          },
          "metadata": {},
          "execution_count": 5
        }
      ],
      "source": [
        "\n",
        "# Initialize lists to store intents and actions\n",
        "intents = []\n",
        "actions = []\n",
        "\n",
        "# Iterate over all columns in the dataframe\n",
        "for column in df.columns:\n",
        "    if \"Intent/Action\" in column:  # Check if the column contains intents/actions\n",
        "        for value in df[column].dropna().unique():  # Drop NaN values and get unique values\n",
        "            if \"utter_\" in value:  # If the value starts with \"utter_\", it's a response\n",
        "                actions.append(value)\n",
        "            else:  # Otherwise, it's an intent\n",
        "                intents.append(value)\n",
        "\n",
        "# Get unique intents and actions\n",
        "unique_intents = list(set(intents))\n",
        "unique_actions = list(set(actions))\n",
        "\n",
        "unique_intents, unique_actions\n"
      ]
    },
    {
      "cell_type": "markdown",
      "metadata": {
        "id": "r-KNKq13pakN"
      },
      "source": [
        "We have successfully extracted unique intents and responses from the CSV file. Now, let's create a mapping of responses to their associated stories (responses). This mapping will be used to generate the response text in the domain.yml file.\n",
        "\n",
        "Each response is linked to a story that corresponds to the same row in the dataframe. We'll iterate through each story and response in the CSV file, and create a dictionary that maps each response to a list of stories. If a response is associated with multiple stories, the stories will be grouped together in a list."
      ]
    },
    {
      "cell_type": "code",
      "execution_count": 7,
      "metadata": {
        "colab": {
          "base_uri": "https://localhost:8080/"
        },
        "id": "w1G1X4x-pdpI",
        "outputId": "d6b1d780-6366-4046-9a0a-1764d64ab16c"
      },
      "outputs": [
        {
          "output_type": "stream",
          "name": "stdout",
          "text": [
            "['Visit our website\\'\\'s \"Projects\" section to see the list of ongoing and upcoming projects. You can \\nbrowse through various topics and find one that aligns with your interests and skills. \\nIf you need any guidance or have specific questions, feel free to ask!']\n"
          ]
        }
      ],
      "source": [
        "# Initialize a dictionary to store actions and their associated answers\n",
        "actions_to_answers = {action: [] for action in unique_actions}\n",
        "\n",
        "# Iterate over all columns in the dataframe\n",
        "for i in range(0, len(df.columns), 2):  # Step by 2 to iterate over pairs of answer and intent/action columns\n",
        "    # Get the answer column and the intent/action column\n",
        "    answer_column = df.columns[i]\n",
        "    intent_action_column = df.columns[i+1]\n",
        "\n",
        "    for index, row in df.iterrows():\n",
        "        intent_action = row[intent_action_column]\n",
        "        if isinstance(row[answer_column], str):  # Skip NaN values\n",
        "          answer = row[answer_column].replace(\"'\", \"''\")  #Replace \"'\" with \"''\" since it will break yml\n",
        "\n",
        "          # If the intent/action is a action (starts with \"utter_\"), add the answer to the action's list\n",
        "          if isinstance(intent_action, str) and \"utter_\" in intent_action:\n",
        "              actions_to_answers[intent_action].append(answer) #\n",
        "\n",
        "try:\n",
        "  print(actions_to_answers['utter_join_collaborator'])\n",
        "except:\n",
        "  pass\n"
      ]
    },
    {
      "cell_type": "code",
      "execution_count": 8,
      "metadata": {
        "colab": {
          "base_uri": "https://localhost:8080/"
        },
        "id": "von1VInrXBqO",
        "outputId": "9eb15eca-7114-4ff6-d817-8fd0fc72d029"
      },
      "outputs": [
        {
          "output_type": "execute_result",
          "data": {
            "text/plain": [
              "nan"
            ]
          },
          "metadata": {},
          "execution_count": 8
        }
      ],
      "source": [
        "intent_action"
      ]
    },
    {
      "cell_type": "markdown",
      "metadata": {
        "id": "QQ5oQ_JEpkM5"
      },
      "source": [
        "We have successfully created a mapping of responses to their associated stories.\n",
        "\n",
        "Now, we will generate the domain.yml file. This file will contain all the intents and responses in the correct format. We will write the version, intents, responses, and session_config to the file. For the responses, we will include each response name along with its associated stories as the text for the response.\n",
        "\n",
        "The session_config and version values will remain constant based on the example you provided:\n",
        "\n",
        "```\n",
        "version: \"3.1\"\n",
        "session_config:\n",
        "session_expiration_time: 60\n",
        "carry_over_slots_to_new_session: true\n",
        "```\n",
        "Finished working\n"
      ]
    },
    {
      "cell_type": "code",
      "execution_count": 9,
      "metadata": {
        "colab": {
          "base_uri": "https://localhost:8080/",
          "height": 35
        },
        "id": "kgqKleu3p6bW",
        "outputId": "e8034de9-d5c2-4a29-f470-aade1ce65f02"
      },
      "outputs": [
        {
          "output_type": "execute_result",
          "data": {
            "text/plain": [
              "'/content/drive/MyDrive/omdena/chatbot_omdena/chatbot-a-v1/domain.yml'"
            ],
            "application/vnd.google.colaboratory.intrinsic+json": {
              "type": "string"
            }
          },
          "metadata": {},
          "execution_count": 9
        }
      ],
      "source": [
        "# Define the session_config and version\n",
        "session_config = {\n",
        "    \"session_expiration_time\": 60,\n",
        "    \"carry_over_slots_to_new_session\": True\n",
        "}\n",
        "version = \"3.1\"\n",
        "\n",
        "# Define the path to the output domain.yml file\n",
        "output_path = proj_path + \"domain.yml\"\n",
        "\n",
        "with open(output_path, \"w\") as f:\n",
        "    # Write the version\n",
        "    f.write(f\"version: \\\"{version}\\\"\\n\\n\")\n",
        "\n",
        "    # Write the intents\n",
        "    f.write(\"intents:\\n\")\n",
        "    for intent in unique_intents:\n",
        "        f.write(f\"  - {intent}\\n\")\n",
        "    f.write(\"\\n\")\n",
        "\n",
        "    # Write the responses\n",
        "    f.write(\"responses:\\n\")\n",
        "    for response, stories in actions_to_answers.items():\n",
        "        f.write(f\"  {response}:\\n\")\n",
        "        for story in stories:\n",
        "            # Escape any special YAML characters in the story (like : and -)\n",
        "            # story = story.replace(\":\", \"\\\\:\")\n",
        "            # story = story.replace(\"-\", \"\\\\-\")\n",
        "\n",
        "            # Add 4 tab spaces after the first new line character in the text field\n",
        "            story = story.replace(\"\\n\", \"\\n\" + \"  \" * 4)\n",
        "\n",
        "            f.write(f\"    - text: \\'{story}\\'\\n\")\n",
        "\n",
        "        f.write(\"\\n\")\n",
        "\n",
        "    # Write the session_config\n",
        "    f.write(\"session_config:\\n\")\n",
        "    for key, value in session_config.items():\n",
        "        f.write(f\"  {key}: {value}\\n\")\n",
        "\n",
        "# Return the path to the generated domain.yml file\n",
        "output_path"
      ]
    },
    {
      "cell_type": "markdown",
      "metadata": {
        "id": "upDP2DLkLk-3"
      },
      "source": [
        "## 2. Generate stories.yml"
      ]
    },
    {
      "cell_type": "code",
      "execution_count": 10,
      "metadata": {
        "colab": {
          "base_uri": "https://localhost:8080/"
        },
        "id": "lqDSBH1rLtpt",
        "outputId": "b9e7c1f4-120f-4895-e348-60cd5c1a5e19"
      },
      "outputs": [
        {
          "output_type": "execute_result",
          "data": {
            "text/plain": [
              "{'story_1': ['about_omdena', 'utter_about_omdena'],\n",
              " 'story_2': ['join_omdena',\n",
              "  'utter_join_omdena',\n",
              "  'develop_portfolio',\n",
              "  'utter_develop_portfolio'],\n",
              " 'story_3': ['join_local_chapter',\n",
              "  'utter_join_local_chapter',\n",
              "  'join_ai_innovation_challenge',\n",
              "  'utter_join_ai_innovation_challenge',\n",
              "  'join_omdena_school',\n",
              "  'utter_join_omdena_school',\n",
              "  'beginner_join',\n",
              "  'utter_beginner_join',\n",
              "  'benefits_of_joining_community',\n",
              "  'utter_benefits_of_joining_community'],\n",
              " 'story_4': ['access_courses', 'utter_access courses'],\n",
              " 'story_5': ['about_omdena', 'utter_about_omdena'],\n",
              " 'story_6': ['join_collaborator',\n",
              "  'utter_join_collaborator',\n",
              "  'about_project',\n",
              "  'utter_about_project',\n",
              "  'application_period',\n",
              "  'utter_application_period',\n",
              "  'commitment',\n",
              "  'utter_commitment'],\n",
              " 'story_7': ['support',\n",
              "  'utter_support',\n",
              "  'project_completion',\n",
              "  'utter_project_completion'],\n",
              " 'story_7.1': ['join_company',\n",
              "  'utter_join_company',\n",
              "  'partnership',\n",
              "  'utter_partnership',\n",
              "  'additional_info',\n",
              "  'utter_additional_info'],\n",
              " 'story_7.2': ['resources',\n",
              "  'utter_resources',\n",
              "  'events',\n",
              "  'utter_events',\n",
              "  'omdena_support',\n",
              "  'utter_omdena_support',\n",
              "  'technical_help',\n",
              "  'utter_technical_help']}"
            ]
          },
          "metadata": {},
          "execution_count": 10
        }
      ],
      "source": [
        "# Initialize a dictionary to store stories and their associated intents/actions\n",
        "stories_to_intents_actions = {}\n",
        "\n",
        "# Iterate over all columns in the dataframe\n",
        "for i in range(0, len(df.columns), 2):  # Step by 2 to iterate over pairs of story and intent/action columns\n",
        "    # Get the story column and the intent/action column\n",
        "    story_column = df.columns[i]\n",
        "    intent_action_column = df.columns[i+1]\n",
        "\n",
        "    # Create a list to store the intents/actions associated with the story\n",
        "    intents_actions = []\n",
        "\n",
        "    # Iterate over all rows in the story and intent/action columns\n",
        "    for index, row in df.iterrows():\n",
        "        story = row[story_column]\n",
        "        intent_action = row[intent_action_column]\n",
        "\n",
        "        # If the story and intent/action are not NaN values, add the intent/action to the list\n",
        "        if pd.notnull(story) and pd.notnull(intent_action):\n",
        "            intents_actions.append(intent_action)\n",
        "\n",
        "    # Add the intents/actions list to the dictionary with the story name as the key\n",
        "    stories_to_intents_actions[story_column] = intents_actions\n",
        "\n",
        "stories_to_intents_actions\n"
      ]
    },
    {
      "cell_type": "code",
      "execution_count": 11,
      "metadata": {
        "colab": {
          "base_uri": "https://localhost:8080/",
          "height": 35
        },
        "id": "7iiwokYZNBei",
        "outputId": "51757594-b1c0-4c70-e91a-db42d859ca68"
      },
      "outputs": [
        {
          "output_type": "execute_result",
          "data": {
            "text/plain": [
              "'/content/drive/MyDrive/omdena/chatbot_omdena/chatbot-a-v1/data/stories.yml'"
            ],
            "application/vnd.google.colaboratory.intrinsic+json": {
              "type": "string"
            }
          },
          "metadata": {},
          "execution_count": 11
        }
      ],
      "source": [
        "# Define the version\n",
        "version = \"3.1\"\n",
        "\n",
        "# Define the path to the output stories.yml file\n",
        "output_path = proj_path + \"data/stories.yml\"\n",
        "\n",
        "with open(output_path, \"w\") as f:\n",
        "    # Write the version\n",
        "    f.write(f\"version: \\\"{version}\\\"\\n\\n\")\n",
        "\n",
        "    # Write the stories\n",
        "    f.write(\"stories:\\n\")\n",
        "    for story, intents_actions in stories_to_intents_actions.items():\n",
        "        f.write(f\"\\n- story: {story}\\n\")\n",
        "        f.write(\"  steps:\\n\")\n",
        "        for intent_action in intents_actions:\n",
        "            if \"utter_\" in intent_action:  # If the intent/action is a response (starts with \"utter_\"), it's an action\n",
        "                f.write(f\"  - action: {intent_action}\\n\")\n",
        "            else:  # Otherwise, it's an intent\n",
        "                f.write(f\"  - intent: {intent_action}\\n\")\n",
        "\n",
        "# Return the path to the generated stories.yml file\n",
        "output_path\n"
      ]
    },
    {
      "cell_type": "markdown",
      "metadata": {
        "id": "8RmnN4JrZSHE"
      },
      "source": [
        "## 3. Generate nlu.yml"
      ]
    },
    {
      "cell_type": "code",
      "execution_count": 12,
      "metadata": {
        "colab": {
          "base_uri": "https://localhost:8080/"
        },
        "id": "DxfDoA3aZhhI",
        "outputId": "e5c4ea54-94b7-4aff-c23f-1f1844d05f18"
      },
      "outputs": [
        {
          "output_type": "execute_result",
          "data": {
            "text/plain": [
              "{'about_omdena': [\"What is Omdena's main focus?\",\n",
              "  \"Hi, I'd like to know more about Omdena projects.\"],\n",
              " 'join_omdena': ['How do I join Omdena?'],\n",
              " 'develop_portfolio': ['How can I develop my AI portfolio with Omdena?'],\n",
              " 'join_local_chapter': ['How do Omdena Local Chapters work, and how can I join one?'],\n",
              " 'join_ai_innovation_challenge': ['How do I join an AI Innovation challenge?'],\n",
              " 'join_omdena_school': ['What is the Omdena School, and what courses does it offer?'],\n",
              " 'beginner_join': ['Can I join as a beginner?'],\n",
              " 'benefits_of_joining_community': ['What are the benefits of joining the Omdena community?'],\n",
              " 'access_courses': ['Are the courses paid or free?'],\n",
              " 'join_collaborator': [\"I'm interested in becoming a collaborator. How can I join a project?\"],\n",
              " 'about_project': ['I found a project that interests me. What should I do next?'],\n",
              " 'application_period': [\"I've submitted my application. What's the next step in the process?\"],\n",
              " 'commitment': ['What kind of commitment is expected from participants during the \\n project?'],\n",
              " 'support': ['Is there any support or guidance provided during the project?'],\n",
              " 'project_completion': ['What happens after the project is completed?'],\n",
              " 'join_company': ['I represent a company and would like to partner with Omdena. How can we \\ncollaborate?'],\n",
              " 'partnership': ['What are the key elements included in the partnership agreement?'],\n",
              " 'additional_info': ['Is there anything else we need to know?'],\n",
              " 'resources': ['Are there any AI learning resources available on the website?'],\n",
              " 'events': ['Do you host events or webinars related to AI?'],\n",
              " 'omdena_support': ['How can I get in touch with someone from Omdena?'],\n",
              " 'technical_help': [\"I need technical support for a project I'm working on with \\n Omdena.\"]}"
            ]
          },
          "metadata": {},
          "execution_count": 12
        }
      ],
      "source": [
        "# Initialize a dictionary to store intents and their associated examples\n",
        "intents_to_examples = {}\n",
        "\n",
        "# Iterate over all columns in the dataframe\n",
        "for i in range(0, len(df.columns), 2):  # Step by 2 to iterate over pairs of story and intent/action columns\n",
        "    # Get the story column and the intent/action column\n",
        "    story_column = df.columns[i]\n",
        "    intent_action_column = df.columns[i+1]\n",
        "\n",
        "    for index, row in df.iterrows():\n",
        "        story = row[story_column]\n",
        "        intent_action = row[intent_action_column]\n",
        "\n",
        "        # If the story and intent/action are not NaN values, add the story to the intent's list of examples\n",
        "        if isinstance(story, str) and isinstance(intent_action, str) and not \"utter_\" in intent_action:\n",
        "            if intent_action not in intents_to_examples:\n",
        "                intents_to_examples[intent_action] = []\n",
        "            intents_to_examples[intent_action].append(story)\n",
        "\n",
        "intents_to_examples\n"
      ]
    },
    {
      "cell_type": "markdown",
      "metadata": {
        "id": "zkQXor3udVdI"
      },
      "source": [
        "In order to generate the nlu.yml file:\n",
        "\n",
        "We will identify each unique intent and its associated examples.\n",
        "Group the examples by their respective intents.\n",
        "Write the intents and their associated examples to the nlu.yml file in the appropriate format.\n",
        "An intent corresponds to the goal or purpose of the user's input. Examples are representative phrases that the user might say to express a given intent. For each intent, we will take all the questions (stories) that map to that intent as examples.\n",
        "\n",
        "Let's begin by extracting the unique intents and their associated examples from the CSV file. For each intent, we will create a dictionary that maps the intent to a list of examples. If an intent has multiple examples, they will be grouped together in a list. Let's start by creating this mapping."
      ]
    },
    {
      "cell_type": "code",
      "execution_count": 13,
      "metadata": {
        "colab": {
          "base_uri": "https://localhost:8080/",
          "height": 35
        },
        "id": "RxR6CzFFdcFt",
        "outputId": "c670dcb5-25b8-42ff-a3c7-0bd471b148d8"
      },
      "outputs": [
        {
          "output_type": "execute_result",
          "data": {
            "text/plain": [
              "'/content/drive/MyDrive/omdena/chatbot_omdena/chatbot-a-v1/data/nlu.yml'"
            ],
            "application/vnd.google.colaboratory.intrinsic+json": {
              "type": "string"
            }
          },
          "metadata": {},
          "execution_count": 13
        }
      ],
      "source": [
        "# Define the version\n",
        "version = \"3.1\"\n",
        "\n",
        "# Define the path to the output nlu.yml file\n",
        "output_path = proj_path + \"data/nlu.yml\"\n",
        "\n",
        "with open(output_path, \"w\") as f:\n",
        "    # Write the version\n",
        "    f.write(f\"version: \\\"{version}\\\"\\n\\n\")\n",
        "\n",
        "    # Write the nlu data\n",
        "    f.write(\"nlu:\\n\")\n",
        "    for intent, examples in intents_to_examples.items():\n",
        "        f.write(f\"\\n- intent: {intent}\\n\")\n",
        "        f.write(\"  examples: |\\n\")\n",
        "        for example in examples:\n",
        "            # Escape any special YAML characters in the example (like : and -)\n",
        "            example = example.replace(\":\", \"\\\\:\")\n",
        "            example = example.replace(\"-\", \"\\\\-\")\n",
        "\n",
        "            f.write(f\"    - {example}\\n\")\n",
        "\n",
        "# Return the path to the generated nlu.yml file\n",
        "output_path\n"
      ]
    },
    {
      "cell_type": "code",
      "source": [],
      "metadata": {
        "id": "Iwil7EzhYMzz"
      },
      "execution_count": null,
      "outputs": []
    }
  ],
  "metadata": {
    "colab": {
      "provenance": []
    },
    "kernelspec": {
      "display_name": "Python 3",
      "name": "python3"
    },
    "language_info": {
      "name": "python"
    }
  },
  "nbformat": 4,
  "nbformat_minor": 0
}
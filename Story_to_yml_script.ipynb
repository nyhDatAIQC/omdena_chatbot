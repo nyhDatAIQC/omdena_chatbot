{
  "cells": [
    {
      "cell_type": "markdown",
      "metadata": {
        "id": "-Fb81eFSJIUx"
      },
      "source": [
        "## 1. Load dataset"
      ]
    },
    {
      "cell_type": "code",
      "execution_count": null,
      "metadata": {
        "colab": {
          "base_uri": "https://localhost:8080/",
          "height": 441
        },
        "id": "9FIdC_OvkB6h",
        "outputId": "719e1875-64ac-43a5-ee9e-a67d2b7c5174"
      },
      "outputs": [
        {
          "output_type": "execute_result",
          "data": {
            "text/plain": [
              "                                             Story_1  \\\n",
              "0  How can I join Omdena's network as a professio...   \n",
              "1  If you are a professional looking to join Omde...   \n",
              "2                    How can I become a collaborator   \n",
              "3  To become a collaborator in Omdena, follow the...   \n",
              "4  what are the requirements of becoming a collab...   \n",
              "\n",
              "             Intent/Action name  \\\n",
              "0        joining_omdena_network   \n",
              "1  utter_joining_omdena_network   \n",
              "2           become_collaborator   \n",
              "3     utter_become_collaborator   \n",
              "4     requirements_collaborator   \n",
              "\n",
              "                                             story_2  \\\n",
              "0                          What are Omdena Projects?   \n",
              "1  Omdena Projects are real.world challenges that...   \n",
              "2                          How can I join a Project?   \n",
              "3  To join an Omdena project, follow these steps....   \n",
              "4               How can i find a project for myself?   \n",
              "\n",
              "          Intent/Action Name  \\\n",
              "0            omdena_projects   \n",
              "1      utter_omdena_projects   \n",
              "2       join_omdena_projects   \n",
              "3  utter_join_omdena_project   \n",
              "4        find_project_myself   \n",
              "\n",
              "                                             story_3  \\\n",
              "0  Which programming languages are used in the pr...   \n",
              "1  In Omdena projects, several programming langua...   \n",
              "2  Which tools are used while working in the proj...   \n",
              "3  Omdena uses a variety of tools to facilitate c...   \n",
              "4            How do we get the data for the project?   \n",
              "\n",
              "          Intent/Action Name.1  \\\n",
              "0        programming_languages   \n",
              "1  utter_programming_languages   \n",
              "2                   tools_used   \n",
              "3             utter_tools_used   \n",
              "4               data_accessing   \n",
              "\n",
              "                                             story_4   Intent/Action Name.2  \n",
              "0                     Tell me about omdena community        about_community  \n",
              "1  Omdena is a global community of AI engineers a...  utter_about_community  \n",
              "2            How to network with other collaborators             networking  \n",
              "3  To network with other collaborators on Omdena,...       utter_networking  \n",
              "4       What do i get by collaborating in a project?   collaborator_benefit  "
            ],
            "text/html": [
              "\n",
              "\n",
              "  <div id=\"df-b26ad721-4642-418b-a577-a692b94ece49\">\n",
              "    <div class=\"colab-df-container\">\n",
              "      <div>\n",
              "<style scoped>\n",
              "    .dataframe tbody tr th:only-of-type {\n",
              "        vertical-align: middle;\n",
              "    }\n",
              "\n",
              "    .dataframe tbody tr th {\n",
              "        vertical-align: top;\n",
              "    }\n",
              "\n",
              "    .dataframe thead th {\n",
              "        text-align: right;\n",
              "    }\n",
              "</style>\n",
              "<table border=\"1\" class=\"dataframe\">\n",
              "  <thead>\n",
              "    <tr style=\"text-align: right;\">\n",
              "      <th></th>\n",
              "      <th>Story_1</th>\n",
              "      <th>Intent/Action name</th>\n",
              "      <th>story_2</th>\n",
              "      <th>Intent/Action Name</th>\n",
              "      <th>story_3</th>\n",
              "      <th>Intent/Action Name.1</th>\n",
              "      <th>story_4</th>\n",
              "      <th>Intent/Action Name.2</th>\n",
              "    </tr>\n",
              "  </thead>\n",
              "  <tbody>\n",
              "    <tr>\n",
              "      <th>0</th>\n",
              "      <td>How can I join Omdena's network as a professio...</td>\n",
              "      <td>joining_omdena_network</td>\n",
              "      <td>What are Omdena Projects?</td>\n",
              "      <td>omdena_projects</td>\n",
              "      <td>Which programming languages are used in the pr...</td>\n",
              "      <td>programming_languages</td>\n",
              "      <td>Tell me about omdena community</td>\n",
              "      <td>about_community</td>\n",
              "    </tr>\n",
              "    <tr>\n",
              "      <th>1</th>\n",
              "      <td>If you are a professional looking to join Omde...</td>\n",
              "      <td>utter_joining_omdena_network</td>\n",
              "      <td>Omdena Projects are real.world challenges that...</td>\n",
              "      <td>utter_omdena_projects</td>\n",
              "      <td>In Omdena projects, several programming langua...</td>\n",
              "      <td>utter_programming_languages</td>\n",
              "      <td>Omdena is a global community of AI engineers a...</td>\n",
              "      <td>utter_about_community</td>\n",
              "    </tr>\n",
              "    <tr>\n",
              "      <th>2</th>\n",
              "      <td>How can I become a collaborator</td>\n",
              "      <td>become_collaborator</td>\n",
              "      <td>How can I join a Project?</td>\n",
              "      <td>join_omdena_projects</td>\n",
              "      <td>Which tools are used while working in the proj...</td>\n",
              "      <td>tools_used</td>\n",
              "      <td>How to network with other collaborators</td>\n",
              "      <td>networking</td>\n",
              "    </tr>\n",
              "    <tr>\n",
              "      <th>3</th>\n",
              "      <td>To become a collaborator in Omdena, follow the...</td>\n",
              "      <td>utter_become_collaborator</td>\n",
              "      <td>To join an Omdena project, follow these steps....</td>\n",
              "      <td>utter_join_omdena_project</td>\n",
              "      <td>Omdena uses a variety of tools to facilitate c...</td>\n",
              "      <td>utter_tools_used</td>\n",
              "      <td>To network with other collaborators on Omdena,...</td>\n",
              "      <td>utter_networking</td>\n",
              "    </tr>\n",
              "    <tr>\n",
              "      <th>4</th>\n",
              "      <td>what are the requirements of becoming a collab...</td>\n",
              "      <td>requirements_collaborator</td>\n",
              "      <td>How can i find a project for myself?</td>\n",
              "      <td>find_project_myself</td>\n",
              "      <td>How do we get the data for the project?</td>\n",
              "      <td>data_accessing</td>\n",
              "      <td>What do i get by collaborating in a project?</td>\n",
              "      <td>collaborator_benefit</td>\n",
              "    </tr>\n",
              "  </tbody>\n",
              "</table>\n",
              "</div>\n",
              "      <button class=\"colab-df-convert\" onclick=\"convertToInteractive('df-b26ad721-4642-418b-a577-a692b94ece49')\"\n",
              "              title=\"Convert this dataframe to an interactive table.\"\n",
              "              style=\"display:none;\">\n",
              "\n",
              "  <svg xmlns=\"http://www.w3.org/2000/svg\" height=\"24px\"viewBox=\"0 0 24 24\"\n",
              "       width=\"24px\">\n",
              "    <path d=\"M0 0h24v24H0V0z\" fill=\"none\"/>\n",
              "    <path d=\"M18.56 5.44l.94 2.06.94-2.06 2.06-.94-2.06-.94-.94-2.06-.94 2.06-2.06.94zm-11 1L8.5 8.5l.94-2.06 2.06-.94-2.06-.94L8.5 2.5l-.94 2.06-2.06.94zm10 10l.94 2.06.94-2.06 2.06-.94-2.06-.94-.94-2.06-.94 2.06-2.06.94z\"/><path d=\"M17.41 7.96l-1.37-1.37c-.4-.4-.92-.59-1.43-.59-.52 0-1.04.2-1.43.59L10.3 9.45l-7.72 7.72c-.78.78-.78 2.05 0 2.83L4 21.41c.39.39.9.59 1.41.59.51 0 1.02-.2 1.41-.59l7.78-7.78 2.81-2.81c.8-.78.8-2.07 0-2.86zM5.41 20L4 18.59l7.72-7.72 1.47 1.35L5.41 20z\"/>\n",
              "  </svg>\n",
              "      </button>\n",
              "\n",
              "\n",
              "\n",
              "    <div id=\"df-3c1ca28b-4d9a-4b78-b4b3-c90be49d0e49\">\n",
              "      <button class=\"colab-df-quickchart\" onclick=\"quickchart('df-3c1ca28b-4d9a-4b78-b4b3-c90be49d0e49')\"\n",
              "              title=\"Suggest charts.\"\n",
              "              style=\"display:none;\">\n",
              "\n",
              "<svg xmlns=\"http://www.w3.org/2000/svg\" height=\"24px\"viewBox=\"0 0 24 24\"\n",
              "     width=\"24px\">\n",
              "    <g>\n",
              "        <path d=\"M19 3H5c-1.1 0-2 .9-2 2v14c0 1.1.9 2 2 2h14c1.1 0 2-.9 2-2V5c0-1.1-.9-2-2-2zM9 17H7v-7h2v7zm4 0h-2V7h2v10zm4 0h-2v-4h2v4z\"/>\n",
              "    </g>\n",
              "</svg>\n",
              "      </button>\n",
              "    </div>\n",
              "\n",
              "<style>\n",
              "  .colab-df-quickchart {\n",
              "    background-color: #E8F0FE;\n",
              "    border: none;\n",
              "    border-radius: 50%;\n",
              "    cursor: pointer;\n",
              "    display: none;\n",
              "    fill: #1967D2;\n",
              "    height: 32px;\n",
              "    padding: 0 0 0 0;\n",
              "    width: 32px;\n",
              "  }\n",
              "\n",
              "  .colab-df-quickchart:hover {\n",
              "    background-color: #E2EBFA;\n",
              "    box-shadow: 0px 1px 2px rgba(60, 64, 67, 0.3), 0px 1px 3px 1px rgba(60, 64, 67, 0.15);\n",
              "    fill: #174EA6;\n",
              "  }\n",
              "\n",
              "  [theme=dark] .colab-df-quickchart {\n",
              "    background-color: #3B4455;\n",
              "    fill: #D2E3FC;\n",
              "  }\n",
              "\n",
              "  [theme=dark] .colab-df-quickchart:hover {\n",
              "    background-color: #434B5C;\n",
              "    box-shadow: 0px 1px 3px 1px rgba(0, 0, 0, 0.15);\n",
              "    filter: drop-shadow(0px 1px 2px rgba(0, 0, 0, 0.3));\n",
              "    fill: #FFFFFF;\n",
              "  }\n",
              "</style>\n",
              "\n",
              "    <script>\n",
              "      async function quickchart(key) {\n",
              "        const containerElement = document.querySelector('#' + key);\n",
              "        const charts = await google.colab.kernel.invokeFunction(\n",
              "            'suggestCharts', [key], {});\n",
              "      }\n",
              "    </script>\n",
              "\n",
              "      <script>\n",
              "\n",
              "function displayQuickchartButton(domScope) {\n",
              "  let quickchartButtonEl =\n",
              "    domScope.querySelector('#df-3c1ca28b-4d9a-4b78-b4b3-c90be49d0e49 button.colab-df-quickchart');\n",
              "  quickchartButtonEl.style.display =\n",
              "    google.colab.kernel.accessAllowed ? 'block' : 'none';\n",
              "}\n",
              "\n",
              "        displayQuickchartButton(document);\n",
              "      </script>\n",
              "      <style>\n",
              "    .colab-df-container {\n",
              "      display:flex;\n",
              "      flex-wrap:wrap;\n",
              "      gap: 12px;\n",
              "    }\n",
              "\n",
              "    .colab-df-convert {\n",
              "      background-color: #E8F0FE;\n",
              "      border: none;\n",
              "      border-radius: 50%;\n",
              "      cursor: pointer;\n",
              "      display: none;\n",
              "      fill: #1967D2;\n",
              "      height: 32px;\n",
              "      padding: 0 0 0 0;\n",
              "      width: 32px;\n",
              "    }\n",
              "\n",
              "    .colab-df-convert:hover {\n",
              "      background-color: #E2EBFA;\n",
              "      box-shadow: 0px 1px 2px rgba(60, 64, 67, 0.3), 0px 1px 3px 1px rgba(60, 64, 67, 0.15);\n",
              "      fill: #174EA6;\n",
              "    }\n",
              "\n",
              "    [theme=dark] .colab-df-convert {\n",
              "      background-color: #3B4455;\n",
              "      fill: #D2E3FC;\n",
              "    }\n",
              "\n",
              "    [theme=dark] .colab-df-convert:hover {\n",
              "      background-color: #434B5C;\n",
              "      box-shadow: 0px 1px 3px 1px rgba(0, 0, 0, 0.15);\n",
              "      filter: drop-shadow(0px 1px 2px rgba(0, 0, 0, 0.3));\n",
              "      fill: #FFFFFF;\n",
              "    }\n",
              "  </style>\n",
              "\n",
              "      <script>\n",
              "        const buttonEl =\n",
              "          document.querySelector('#df-b26ad721-4642-418b-a577-a692b94ece49 button.colab-df-convert');\n",
              "        buttonEl.style.display =\n",
              "          google.colab.kernel.accessAllowed ? 'block' : 'none';\n",
              "\n",
              "        async function convertToInteractive(key) {\n",
              "          const element = document.querySelector('#df-b26ad721-4642-418b-a577-a692b94ece49');\n",
              "          const dataTable =\n",
              "            await google.colab.kernel.invokeFunction('convertToInteractive',\n",
              "                                                     [key], {});\n",
              "          if (!dataTable) return;\n",
              "\n",
              "          const docLinkHtml = 'Like what you see? Visit the ' +\n",
              "            '<a target=\"_blank\" href=https://colab.research.google.com/notebooks/data_table.ipynb>data table notebook</a>'\n",
              "            + ' to learn more about interactive tables.';\n",
              "          element.innerHTML = '';\n",
              "          dataTable['output_type'] = 'display_data';\n",
              "          await google.colab.output.renderOutput(dataTable, element);\n",
              "          const docLink = document.createElement('div');\n",
              "          docLink.innerHTML = docLinkHtml;\n",
              "          element.appendChild(docLink);\n",
              "        }\n",
              "      </script>\n",
              "    </div>\n",
              "  </div>\n"
            ]
          },
          "metadata": {},
          "execution_count": 1
        }
      ],
      "source": [
        "import pandas as pd\n",
        "\n",
        "# Load the CSV data\n",
        "df = pd.read_csv('https://raw.githubusercontent.com/pvanand07/Omdena-faq-chatbot-RASA/demo_branch/Dataset/Story_flows_example%20-%20Sheet1.csv')\n",
        "\n",
        "# Show the first few rows of the dataframe\n",
        "df.head()"
      ]
    },
    {
      "cell_type": "code",
      "execution_count": null,
      "metadata": {
        "colab": {
          "base_uri": "https://localhost:8080/",
          "height": 92
        },
        "id": "VNyVMY5L0MpW",
        "outputId": "984d1495-f839-4b89-96ad-00c9c2763026"
      },
      "outputs": [
        {
          "output_type": "execute_result",
          "data": {
            "text/plain": [
              "'To become a collaborator in Omdena, you need to meet the following requirements.\\n\\n1. You must have an internet connection\\n2.You must be over the age of 18, with a few exceptions\\n3.You must complete at least one Omdena 8.Week challenge, Local Chapter Challenge, or Omdena School Course\\n4.The challenges require more than 15 hours a week, regular contribution with a weekly assessment, as well as vanguard engagement, creativity, and motivation\\n.\\nOnce you have completed a challenge, you can reach out to a Task Leader or Product Lead and offer to pitch in. For more details visit,\\nhttps.//omdena.com/collaborator_onboarding/\\n'"
            ],
            "application/vnd.google.colaboratory.intrinsic+json": {
              "type": "string"
            }
          },
          "metadata": {},
          "execution_count": 2
        }
      ],
      "source": [
        "\n",
        "df['Story_1'][5]"
      ]
    },
    {
      "cell_type": "markdown",
      "metadata": {
        "id": "7lk_95n0mjt_"
      },
      "source": [
        "The provided CSV file contains 4 different stories, each with their own intents/actions. In order to generate the domain.yml file, we will:\n",
        "\n",
        "- Identify all unique intents (intents start with no \"utter_\" prefix) and responses (responses start with the \"utter_\" prefix) across all the stories.\n",
        "- Group the responses by their names and concatenate the associated stories to form the text for each response.\n",
        "- Write the intents and responses to the domain.yml file in the appropriate format.\n",
        "\n",
        "Let's start by extracting all the unique intents and responses."
      ]
    },
    {
      "cell_type": "markdown",
      "metadata": {
        "id": "sfL32xkqLbbD"
      },
      "source": [
        "## 1. Create Domain.yml"
      ]
    },
    {
      "cell_type": "code",
      "execution_count": null,
      "metadata": {
        "colab": {
          "base_uri": "https://localhost:8080/"
        },
        "id": "BW2B1xbwmsYE",
        "outputId": "c6b84789-5918-4fc8-a608-b4640ac77ed7"
      },
      "outputs": [
        {
          "output_type": "execute_result",
          "data": {
            "text/plain": [
              "(['about_community',\n",
              "  'omdena_projects',\n",
              "  'apply_collaborator',\n",
              "  'networking',\n",
              "  'find_project_myself',\n",
              "  'collaboration_tools',\n",
              "  'requirements_collaborator',\n",
              "  'join_omdena_projects',\n",
              "  'roles_responsibilities',\n",
              "  'joining_omdena_network',\n",
              "  'tools_used',\n",
              "  'programming_languages',\n",
              "  'data_accessing',\n",
              "  'become_collaborator',\n",
              "  'collaborator_benefit',\n",
              "  'working_process'],\n",
              " ['utter_requirements_collaborator',\n",
              "  'utter_joining_omdena_network',\n",
              "  'utter_join_omdena_project',\n",
              "  'utter_collaboration_tools',\n",
              "  'utter_programming_languages',\n",
              "  'utter_data_accessing',\n",
              "  'utter_roles_responsibilities',\n",
              "  'utter_networking',\n",
              "  'utter_apply_collaborator',\n",
              "  'utter_working_process',\n",
              "  'utter_become_collaborator',\n",
              "  'utter_find_project_myself',\n",
              "  'utter_omdena_projects',\n",
              "  'utter_about_community',\n",
              "  'utter_collaborator_benefit',\n",
              "  'utter_tools_used'])"
            ]
          },
          "metadata": {},
          "execution_count": 3
        }
      ],
      "source": [
        "\n",
        "# Initialize lists to store intents and actions\n",
        "intents = []\n",
        "actions = []\n",
        "\n",
        "# Iterate over all columns in the dataframe\n",
        "for column in df.columns:\n",
        "    if \"Intent/Action\" in column:  # Check if the column contains intents/actions\n",
        "        for value in df[column].dropna().unique():  # Drop NaN values and get unique values\n",
        "            if \"utter_\" in value:  # If the value starts with \"utter_\", it's a response\n",
        "                actions.append(value)\n",
        "            else:  # Otherwise, it's an intent\n",
        "                intents.append(value)\n",
        "\n",
        "# Get unique intents and actions\n",
        "unique_intents = list(set(intents))\n",
        "unique_actions = list(set(actions))\n",
        "\n",
        "unique_intents, unique_actions\n"
      ]
    },
    {
      "cell_type": "markdown",
      "metadata": {
        "id": "r-KNKq13pakN"
      },
      "source": [
        "We have successfully extracted unique intents and responses from the CSV file. Now, let's create a mapping of responses to their associated stories (responses). This mapping will be used to generate the response text in the domain.yml file.\n",
        "\n",
        "Each response is linked to a story that corresponds to the same row in the dataframe. We'll iterate through each story and response in the CSV file, and create a dictionary that maps each response to a list of stories. If a response is associated with multiple stories, the stories will be grouped together in a list."
      ]
    },
    {
      "cell_type": "code",
      "execution_count": null,
      "metadata": {
        "colab": {
          "base_uri": "https://localhost:8080/"
        },
        "id": "w1G1X4x-pdpI",
        "outputId": "5591f1c9-83f2-4d38-99ec-0cd9df4a4186"
      },
      "outputs": [
        {
          "output_type": "stream",
          "name": "stdout",
          "text": [
            "['The application process to become a collaborator in Omdena involves the following steps.\\n\\n1. Apply. To apply, visit the Omdena website and click on the \"Apply Now\" button at the bottom of the challenge you are interested in joining.\\r\\n\\r\\n2. Secure your time. Omdena projects are real.world projects that require a significant time commitment. Make sure you have enough hours per week to dedicate to the project.\\r\\n\\r\\n3. Increase your chances. Before applying for a challenge, you can increase your chances of being selected by gaining first.hand experience with Omdena through participation in a Local Chapter Project or Omdena School Courses.\\r\\n\\r\\n4. Collaboration skills. Successful collaboration is essential in Omdena. You should be comfortable working with a team, receiving critical feedback, and learning from others.\\r\\n\\r\\n5. Technical skills. While specific technical skills may vary depending on the challenge, having a solid foundation in data science and machine learning is important.\\r\\n\\r\\n6. Communication skills. Being able to communicate your ideas and results clearly is crucial. You will have the opportunity to present your work to your peers and the community.\\r\\n\\r\\n7. Engagement and motivation. Omdena challenges require more than 15 hours a week of active participation, regular contribution, and vanguard engagement. You should demonstrate creativity, motivation, and a willingness to learn.\\r\\n\\r\\nOnce you have completed the application process and have been selected as a collaborator, you can engage with Task Leaders or Product Owners and offer to pitch in. Transparent communication and reaching out to other collaborators for guidance are also encouraged.\\r\\n']\n"
          ]
        }
      ],
      "source": [
        "# Initialize a dictionary to store actions and their associated answers\n",
        "actions_to_answers = {action: [] for action in unique_actions}\n",
        "\n",
        "# Iterate over all columns in the dataframe\n",
        "for i in range(0, len(df.columns), 2):  # Step by 2 to iterate over pairs of answer and intent/action columns\n",
        "    # Get the answer column and the intent/action column\n",
        "    answer_column = df.columns[i]\n",
        "    intent_action_column = df.columns[i+1]\n",
        "\n",
        "    for index, row in df.iterrows():\n",
        "        intent_action = row[intent_action_column]\n",
        "        if isinstance(row[answer_column], str):  # Skip NaN values\n",
        "          answer = row[answer_column].replace(\"'\", \"''\")  #Replace \"'\" with \"''\" since it will break yml\n",
        "\n",
        "          # If the intent/action is a action (starts with \"utter_\"), add the answer to the action's list\n",
        "          if isinstance(intent_action, str) and \"utter_\" in intent_action:\n",
        "              actions_to_answers[intent_action].append(answer) #\n",
        "\n",
        "try:\n",
        "  print(actions_to_answers['utter_apply_collaborator'])\n",
        "except:\n",
        "  pass\n"
      ]
    },
    {
      "cell_type": "code",
      "execution_count": null,
      "metadata": {
        "colab": {
          "base_uri": "https://localhost:8080/"
        },
        "id": "von1VInrXBqO",
        "outputId": "5fc45682-44e4-49f8-a57a-f1b4eb8bebf1"
      },
      "outputs": [
        {
          "output_type": "execute_result",
          "data": {
            "text/plain": [
              "nan"
            ]
          },
          "metadata": {},
          "execution_count": 5
        }
      ],
      "source": [
        "intent_action"
      ]
    },
    {
      "cell_type": "markdown",
      "metadata": {
        "id": "QQ5oQ_JEpkM5"
      },
      "source": [
        "We have successfully created a mapping of responses to their associated stories.\n",
        "\n",
        "Now, we will generate the domain.yml file. This file will contain all the intents and responses in the correct format. We will write the version, intents, responses, and session_config to the file. For the responses, we will include each response name along with its associated stories as the text for the response.\n",
        "\n",
        "The session_config and version values will remain constant based on the example you provided:\n",
        "\n",
        "```\n",
        "version: \"3.1\"\n",
        "session_config:\n",
        "session_expiration_time: 60\n",
        "carry_over_slots_to_new_session: true\n",
        "```\n",
        "Finished working\n"
      ]
    },
    {
      "cell_type": "code",
      "execution_count": null,
      "metadata": {
        "colab": {
          "base_uri": "https://localhost:8080/",
          "height": 37
        },
        "id": "kgqKleu3p6bW",
        "outputId": "8ea3845f-335b-44f9-85ea-9d8569e68813"
      },
      "outputs": [
        {
          "output_type": "execute_result",
          "data": {
            "text/plain": [
              "'domain.yml'"
            ],
            "application/vnd.google.colaboratory.intrinsic+json": {
              "type": "string"
            }
          },
          "metadata": {},
          "execution_count": 6
        }
      ],
      "source": [
        "# Define the session_config and version\n",
        "session_config = {\n",
        "    \"session_expiration_time\": 60,\n",
        "    \"carry_over_slots_to_new_session\": True\n",
        "}\n",
        "version = \"3.1\"\n",
        "\n",
        "# Define the path to the output domain.yml file\n",
        "output_path = \"domain.yml\"\n",
        "\n",
        "with open(output_path, \"w\") as f:\n",
        "    # Write the version\n",
        "    f.write(f\"version: \\\"{version}\\\"\\n\\n\")\n",
        "\n",
        "    # Write the intents\n",
        "    f.write(\"intents:\\n\")\n",
        "    for intent in unique_intents:\n",
        "        f.write(f\"  - {intent}\\n\")\n",
        "    f.write(\"\\n\")\n",
        "\n",
        "    # Write the responses\n",
        "    f.write(\"responses:\\n\")\n",
        "    for response, stories in actions_to_answers.items():\n",
        "        f.write(f\"  {response}:\\n\")\n",
        "        for story in stories:\n",
        "            # Escape any special YAML characters in the story (like : and -)\n",
        "            # story = story.replace(\":\", \"\\\\:\")\n",
        "            # story = story.replace(\"-\", \"\\\\-\")\n",
        "\n",
        "            # Add 4 tab spaces after the first new line character in the text field\n",
        "            story = story.replace(\"\\n\", \"\\n\" + \"  \" * 4)\n",
        "\n",
        "            f.write(f\"    - text: \\'{story}\\'\\n\")\n",
        "\n",
        "        f.write(\"\\n\")\n",
        "\n",
        "    # Write the session_config\n",
        "    f.write(\"session_config:\\n\")\n",
        "    for key, value in session_config.items():\n",
        "        f.write(f\"  {key}: {value}\\n\")\n",
        "\n",
        "# Return the path to the generated domain.yml file\n",
        "output_path"
      ]
    },
    {
      "cell_type": "markdown",
      "metadata": {
        "id": "upDP2DLkLk-3"
      },
      "source": [
        "## 2. Generate stories.yml"
      ]
    },
    {
      "cell_type": "code",
      "execution_count": null,
      "metadata": {
        "colab": {
          "base_uri": "https://localhost:8080/"
        },
        "id": "lqDSBH1rLtpt",
        "outputId": "7731dfbd-fc0b-4cb9-ec35-975df47e4dd3"
      },
      "outputs": [
        {
          "output_type": "execute_result",
          "data": {
            "text/plain": [
              "{'Story_1': ['joining_omdena_network',\n",
              "  'utter_joining_omdena_network',\n",
              "  'become_collaborator',\n",
              "  'utter_become_collaborator',\n",
              "  'requirements_collaborator',\n",
              "  'utter_requirements_collaborator',\n",
              "  'apply_collaborator',\n",
              "  'utter_apply_collaborator'],\n",
              " 'story_2': ['omdena_projects',\n",
              "  'utter_omdena_projects',\n",
              "  'join_omdena_projects',\n",
              "  'utter_join_omdena_project',\n",
              "  'find_project_myself',\n",
              "  'utter_find_project_myself',\n",
              "  'working_process',\n",
              "  'utter_working_process',\n",
              "  'collaboration_tools',\n",
              "  'utter_collaboration_tools',\n",
              "  'roles_responsibilities',\n",
              "  'utter_roles_responsibilities'],\n",
              " 'story_3': ['programming_languages',\n",
              "  'utter_programming_languages',\n",
              "  'tools_used',\n",
              "  'utter_tools_used',\n",
              "  'data_accessing',\n",
              "  'utter_data_accessing'],\n",
              " 'story_4': ['about_community',\n",
              "  'utter_about_community',\n",
              "  'networking',\n",
              "  'utter_networking',\n",
              "  'collaborator_benefit',\n",
              "  'utter_collaborator_benefit']}"
            ]
          },
          "metadata": {},
          "execution_count": 7
        }
      ],
      "source": [
        "# Initialize a dictionary to store stories and their associated intents/actions\n",
        "stories_to_intents_actions = {}\n",
        "\n",
        "# Iterate over all columns in the dataframe\n",
        "for i in range(0, len(df.columns), 2):  # Step by 2 to iterate over pairs of story and intent/action columns\n",
        "    # Get the story column and the intent/action column\n",
        "    story_column = df.columns[i]\n",
        "    intent_action_column = df.columns[i+1]\n",
        "\n",
        "    # Create a list to store the intents/actions associated with the story\n",
        "    intents_actions = []\n",
        "\n",
        "    # Iterate over all rows in the story and intent/action columns\n",
        "    for index, row in df.iterrows():\n",
        "        story = row[story_column]\n",
        "        intent_action = row[intent_action_column]\n",
        "\n",
        "        # If the story and intent/action are not NaN values, add the intent/action to the list\n",
        "        if pd.notnull(story) and pd.notnull(intent_action):\n",
        "            intents_actions.append(intent_action)\n",
        "\n",
        "    # Add the intents/actions list to the dictionary with the story name as the key\n",
        "    stories_to_intents_actions[story_column] = intents_actions\n",
        "\n",
        "stories_to_intents_actions\n"
      ]
    },
    {
      "cell_type": "code",
      "execution_count": null,
      "metadata": {
        "colab": {
          "base_uri": "https://localhost:8080/",
          "height": 37
        },
        "id": "7iiwokYZNBei",
        "outputId": "926954d3-b99d-4271-d1c0-7b7ec7b4e981"
      },
      "outputs": [
        {
          "output_type": "execute_result",
          "data": {
            "text/plain": [
              "'stories.yml'"
            ],
            "application/vnd.google.colaboratory.intrinsic+json": {
              "type": "string"
            }
          },
          "metadata": {},
          "execution_count": 8
        }
      ],
      "source": [
        "# Define the version\n",
        "version = \"3.1\"\n",
        "\n",
        "# Define the path to the output stories.yml file\n",
        "output_path = \"stories.yml\"\n",
        "\n",
        "with open(output_path, \"w\") as f:\n",
        "    # Write the version\n",
        "    f.write(f\"version: \\\"{version}\\\"\\n\\n\")\n",
        "\n",
        "    # Write the stories\n",
        "    f.write(\"stories:\\n\")\n",
        "    for story, intents_actions in stories_to_intents_actions.items():\n",
        "        f.write(f\"\\n- story: {story}\\n\")\n",
        "        f.write(\"  steps:\\n\")\n",
        "        for intent_action in intents_actions:\n",
        "            if \"utter_\" in intent_action:  # If the intent/action is a response (starts with \"utter_\"), it's an action\n",
        "                f.write(f\"  - action: {intent_action}\\n\")\n",
        "            else:  # Otherwise, it's an intent\n",
        "                f.write(f\"  - intent: {intent_action}\\n\")\n",
        "\n",
        "# Return the path to the generated stories.yml file\n",
        "output_path\n"
      ]
    },
    {
      "cell_type": "code",
      "execution_count": null,
      "metadata": {
        "colab": {
          "base_uri": "https://localhost:8080/",
          "height": 37
        },
        "id": "HCAg6Vsmvj2f",
        "outputId": "dd1b899f-67ef-4696-c9d3-6b929e0dc305"
      },
      "outputs": [
        {
          "output_type": "execute_result",
          "data": {
            "text/plain": [
              "'stories.yml'"
            ],
            "application/vnd.google.colaboratory.intrinsic+json": {
              "type": "string"
            }
          },
          "metadata": {},
          "execution_count": 9
        }
      ],
      "source": [
        "version = \"3.1\"\n",
        "output_path = \"stories.yml\"\n",
        "\n",
        "with open(output_path, \"w\") as f:\n",
        "    # Write the version\n",
        "    f.write(f\"version: \\\"{version}\\\"\\n\\n\")\n",
        "\n",
        "    # Write the stories\n",
        "    f.write(\"stories:\\n\")\n",
        "    for story, intents_actions in stories_to_intents_actions.items():\n",
        "        f.write(f\"\\n- story: {story}\\n\")\n",
        "        f.write(\"  steps:\\n\")\n",
        "        for intent_action in intents_actions:\n",
        "            # Check if it's an action or intent\n",
        "            if intent_action.startswith(\"utter_\"):  # If the intent/action is a response (starts with \"utter_\"), it's an action\n",
        "                # An action can't be the first step in a story, so we need to check this\n",
        "                if intents_actions.index(intent_action) == 0:\n",
        "                    continue  # If it's the first step, skip it\n",
        "                else:\n",
        "                    f.write(f\"  - action: {intent_action}\\n\")\n",
        "            else:  # Otherwise, it's an intent\n",
        "                f.write(f\"  - intent: {intent_action}\\n\")\n",
        "\n",
        "# Return the path to the generated stories.yml file\n",
        "output_path\n"
      ]
    },
    {
      "cell_type": "markdown",
      "metadata": {
        "id": "8RmnN4JrZSHE"
      },
      "source": [
        "## 3. Generate nlu.yml"
      ]
    },
    {
      "cell_type": "code",
      "execution_count": null,
      "metadata": {
        "colab": {
          "base_uri": "https://localhost:8080/"
        },
        "id": "DxfDoA3aZhhI",
        "outputId": "03ea08ca-42b1-4428-9f06-8fc62bd22af4"
      },
      "outputs": [
        {
          "output_type": "execute_result",
          "data": {
            "text/plain": [
              "{'joining_omdena_network': [\"How can I join Omdena's network as a professional?\"],\n",
              " 'become_collaborator': ['How can I become a collaborator'],\n",
              " 'requirements_collaborator': ['what are the requirements of becoming a collaborator?'],\n",
              " 'apply_collaborator': ['How can I apply to be a collaborator?'],\n",
              " 'omdena_projects': ['What are Omdena Projects?'],\n",
              " 'join_omdena_projects': ['How can I join a Project?'],\n",
              " 'find_project_myself': ['How can i find a project for myself?'],\n",
              " 'working_process': ['What is the process of working in a project?'],\n",
              " 'collaboration_tools': ['Which tools are used for collaboration?'],\n",
              " 'roles_responsibilities': ['What are the roles and responsibilities of a collaborator?'],\n",
              " 'programming_languages': ['Which programming languages are used in the projects?'],\n",
              " 'tools_used': ['Which tools are used while working in the project?'],\n",
              " 'data_accessing': ['How do we get the data for the project?'],\n",
              " 'about_community': ['Tell me about omdena community'],\n",
              " 'networking': ['How to network with other collaborators'],\n",
              " 'collaborator_benefit': ['What do i get by collaborating in a project?']}"
            ]
          },
          "metadata": {},
          "execution_count": 10
        }
      ],
      "source": [
        "# Initialize a dictionary to store intents and their associated examples\n",
        "intents_to_examples = {}\n",
        "\n",
        "# Iterate over all columns in the dataframe\n",
        "for i in range(0, len(df.columns), 2):  # Step by 2 to iterate over pairs of story and intent/action columns\n",
        "    # Get the story column and the intent/action column\n",
        "    story_column = df.columns[i]\n",
        "    intent_action_column = df.columns[i+1]\n",
        "\n",
        "    for index, row in df.iterrows():\n",
        "        story = row[story_column]\n",
        "        intent_action = row[intent_action_column]\n",
        "\n",
        "        # If the story and intent/action are not NaN values, add the story to the intent's list of examples\n",
        "        if isinstance(story, str) and isinstance(intent_action, str) and not \"utter_\" in intent_action:\n",
        "            if intent_action not in intents_to_examples:\n",
        "                intents_to_examples[intent_action] = []\n",
        "            intents_to_examples[intent_action].append(story)\n",
        "\n",
        "intents_to_examples\n"
      ]
    },
    {
      "cell_type": "markdown",
      "metadata": {
        "id": "zkQXor3udVdI"
      },
      "source": [
        "In order to generate the nlu.yml file:\n",
        "\n",
        "We will identify each unique intent and its associated examples.\n",
        "Group the examples by their respective intents.\n",
        "Write the intents and their associated examples to the nlu.yml file in the appropriate format.\n",
        "An intent corresponds to the goal or purpose of the user's input. Examples are representative phrases that the user might say to express a given intent. For each intent, we will take all the questions (stories) that map to that intent as examples.\n",
        "\n",
        "Let's begin by extracting the unique intents and their associated examples from the CSV file. For each intent, we will create a dictionary that maps the intent to a list of examples. If an intent has multiple examples, they will be grouped together in a list. Let's start by creating this mapping."
      ]
    },
    {
      "cell_type": "code",
      "execution_count": null,
      "metadata": {
        "colab": {
          "base_uri": "https://localhost:8080/",
          "height": 37
        },
        "id": "RxR6CzFFdcFt",
        "outputId": "efd59707-e5b6-45c9-b4b0-c46a3552d977"
      },
      "outputs": [
        {
          "output_type": "execute_result",
          "data": {
            "text/plain": [
              "'nlu.yml'"
            ],
            "application/vnd.google.colaboratory.intrinsic+json": {
              "type": "string"
            }
          },
          "metadata": {},
          "execution_count": 11
        }
      ],
      "source": [
        "# Define the version\n",
        "version = \"3.1\"\n",
        "\n",
        "# Define the path to the output nlu.yml file\n",
        "output_path = \"nlu.yml\"\n",
        "\n",
        "with open(output_path, \"w\") as f:\n",
        "    # Write the version\n",
        "    f.write(f\"version: \\\"{version}\\\"\\n\\n\")\n",
        "\n",
        "    # Write the nlu data\n",
        "    f.write(\"nlu:\\n\")\n",
        "    for intent, examples in intents_to_examples.items():\n",
        "        f.write(f\"\\n- intent: {intent}\\n\")\n",
        "        f.write(\"  examples: |\\n\")\n",
        "        for example in examples:\n",
        "            # Escape any special YAML characters in the example (like : and -)\n",
        "            example = example.replace(\":\", \"\\\\:\")\n",
        "            example = example.replace(\"-\", \"\\\\-\")\n",
        "\n",
        "            f.write(f\"    - {example}\\n\")\n",
        "\n",
        "# Return the path to the generated nlu.yml file\n",
        "output_path\n"
      ]
    }
  ],
  "metadata": {
    "colab": {
      "provenance": []
    },
    "kernelspec": {
      "display_name": "Python 3",
      "name": "python3"
    },
    "language_info": {
      "name": "python"
    }
  },
  "nbformat": 4,
  "nbformat_minor": 0
}